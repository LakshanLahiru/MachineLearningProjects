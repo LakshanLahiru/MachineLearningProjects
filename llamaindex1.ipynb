{
  "nbformat": 4,
  "nbformat_minor": 0,
  "metadata": {
    "colab": {
      "provenance": [],
      "authorship_tag": "ABX9TyMyASxsDa5/zugk8H8lDCP+",
      "include_colab_link": true
    },
    "kernelspec": {
      "name": "python3",
      "display_name": "Python 3"
    },
    "language_info": {
      "name": "python"
    }
  },
  "cells": [
    {
      "cell_type": "markdown",
      "metadata": {
        "id": "view-in-github",
        "colab_type": "text"
      },
      "source": [
        "<a href=\"https://colab.research.google.com/github/LakshanLahiru/MachineLearningProjects/blob/main/llamaindex1.ipynb\" target=\"_parent\"><img src=\"https://colab.research.google.com/assets/colab-badge.svg\" alt=\"Open In Colab\"/></a>"
      ]
    },
    {
      "cell_type": "code",
      "execution_count": 1,
      "metadata": {
        "colab": {
          "base_uri": "https://localhost:8080/",
          "height": 141
        },
        "id": "8H_ExykZbe-A",
        "outputId": "bd8ebb18-9f85-4bc1-9bbc-f4b84cb44d36"
      },
      "outputs": [
        {
          "output_type": "error",
          "ename": "NameError",
          "evalue": "name 'sk' is not defined",
          "traceback": [
            "\u001b[0;31m---------------------------------------------------------------------------\u001b[0m",
            "\u001b[0;31mNameError\u001b[0m                                 Traceback (most recent call last)",
            "\u001b[0;32m<ipython-input-1-1f6b0ee731ff>\u001b[0m in \u001b[0;36m<cell line: 1>\u001b[0;34m()\u001b[0m\n\u001b[0;32m----> 1\u001b[0;31m \u001b[0msk\u001b[0m\u001b[0;34m-\u001b[0m\u001b[0mNn1uFW4mOqL6n3P22EAZT3BlbkFJZVBibfCKQS3Sk6yjJlSx\u001b[0m\u001b[0;34m\u001b[0m\u001b[0;34m\u001b[0m\u001b[0m\n\u001b[0m",
            "\u001b[0;31mNameError\u001b[0m: name 'sk' is not defined"
          ]
        }
      ],
      "source": []
    },
    {
      "cell_type": "code",
      "source": [
        "%pip install -Uq llama-index"
      ],
      "metadata": {
        "colab": {
          "base_uri": "https://localhost:8080/"
        },
        "id": "PGAn3DrObsgG",
        "outputId": "872a9385-0af3-419e-b559-58248873adb1"
      },
      "execution_count": 2,
      "outputs": [
        {
          "output_type": "stream",
          "name": "stdout",
          "text": [
            "\u001b[?25l   \u001b[90m━━━━━━━━━━━━━━━━━━━━━━━━━━━━━━━━━━━━━━━━\u001b[0m \u001b[32m0.0/1.6 MB\u001b[0m \u001b[31m?\u001b[0m eta \u001b[36m-:--:--\u001b[0m\r\u001b[2K   \u001b[91m━━━━━━━━━━━━━━━━━━━━━━━━━━━━━━━━━━━━━━━\u001b[0m\u001b[91m╸\u001b[0m \u001b[32m1.6/1.6 MB\u001b[0m \u001b[31m60.1 MB/s\u001b[0m eta \u001b[36m0:00:01\u001b[0m\r\u001b[2K   \u001b[90m━━━━━━━━━━━━━━━━━━━━━━━━━━━━━━━━━━━━━━━━\u001b[0m \u001b[32m1.6/1.6 MB\u001b[0m \u001b[31m25.5 MB/s\u001b[0m eta \u001b[36m0:00:00\u001b[0m\n",
            "\u001b[2K   \u001b[90m━━━━━━━━━━━━━━━━━━━━━━━━━━━━━━━━━━━━━━━━\u001b[0m \u001b[32m1.2/1.2 MB\u001b[0m \u001b[31m36.5 MB/s\u001b[0m eta \u001b[36m0:00:00\u001b[0m\n",
            "\u001b[2K   \u001b[90m━━━━━━━━━━━━━━━━━━━━━━━━━━━━━━━━━━━━━━━━\u001b[0m \u001b[32m189.0/189.0 kB\u001b[0m \u001b[31m12.8 MB/s\u001b[0m eta \u001b[36m0:00:00\u001b[0m\n",
            "\u001b[2K   \u001b[90m━━━━━━━━━━━━━━━━━━━━━━━━━━━━━━━━━━━━━━━━\u001b[0m \u001b[32m298.0/298.0 kB\u001b[0m \u001b[31m15.2 MB/s\u001b[0m eta \u001b[36m0:00:00\u001b[0m\n",
            "\u001b[2K   \u001b[90m━━━━━━━━━━━━━━━━━━━━━━━━━━━━━━━━━━━━━━━━\u001b[0m \u001b[32m1.2/1.2 MB\u001b[0m \u001b[31m41.6 MB/s\u001b[0m eta \u001b[36m0:00:00\u001b[0m\n",
            "\u001b[2K   \u001b[90m━━━━━━━━━━━━━━━━━━━━━━━━━━━━━━━━━━━━━━━━\u001b[0m \u001b[32m49.5/49.5 kB\u001b[0m \u001b[31m3.3 MB/s\u001b[0m eta \u001b[36m0:00:00\u001b[0m\n",
            "\u001b[?25h"
          ]
        }
      ]
    },
    {
      "cell_type": "code",
      "source": [
        "import getpass\n",
        "import os\n",
        "\n",
        "os.environ['OPENAI_API_KEY'] = getpass.getpass(\"OpenAI API Key: \")\n"
      ],
      "metadata": {
        "id": "XiEHk-R9UfNJ",
        "colab": {
          "base_uri": "https://localhost:8080/"
        },
        "outputId": "fa8acd72-6f7a-4d06-bee0-5fe67728676d"
      },
      "execution_count": 3,
      "outputs": [
        {
          "name": "stdout",
          "output_type": "stream",
          "text": [
            "OpenAI API Key: ··········\n"
          ]
        }
      ]
    },
    {
      "cell_type": "code",
      "source": [
        "from llama_index.core import VectorStoreIndex, SimpleDirectoryReader"
      ],
      "metadata": {
        "id": "yIXdu4web366"
      },
      "execution_count": 4,
      "outputs": []
    },
    {
      "cell_type": "code",
      "source": [
        "%ls"
      ],
      "metadata": {
        "colab": {
          "base_uri": "https://localhost:8080/"
        },
        "id": "iq0FZQ6dcFL1",
        "outputId": "97f71260-6bda-4952-fee2-b9fd873870b7"
      },
      "execution_count": 9,
      "outputs": [
        {
          "output_type": "stream",
          "name": "stdout",
          "text": [
            "\u001b[0m\u001b[01;34mdata\u001b[0m/  \u001b[01;34msample_data\u001b[0m/\n"
          ]
        }
      ]
    },
    {
      "cell_type": "code",
      "source": [
        "documents = SimpleDirectoryReader(\"data\").load_data()\n",
        "index = VectorStoreIndex.from_documents(documents)\n",
        "print(index)\n",
        "query_engine = index.as_query_engine()\n",
        "response = query_engine.query(\"what about this document\")\n",
        "#print(response)"
      ],
      "metadata": {
        "colab": {
          "base_uri": "https://localhost:8080/"
        },
        "id": "dhxQQ_lwcUsS",
        "outputId": "adf25892-e8fd-442e-8f52-4b4e09e5eec8"
      },
      "execution_count": 16,
      "outputs": [
        {
          "output_type": "stream",
          "name": "stdout",
          "text": [
            "<llama_index.core.indices.vector_store.base.VectorStoreIndex object at 0x7d07d8cde6b0>\n"
          ]
        }
      ]
    },
    {
      "cell_type": "code",
      "source": [
        "documents[0]"
      ],
      "metadata": {
        "colab": {
          "base_uri": "https://localhost:8080/"
        },
        "id": "Iub60Xm4nbsZ",
        "outputId": "fc2671cf-adbf-46be-94cb-de917996a668"
      },
      "execution_count": 12,
      "outputs": [
        {
          "output_type": "execute_result",
          "data": {
            "text/plain": [
              "Document(id_='ba15632d-b6e7-4234-a295-1efdb98ee37d', embedding=None, metadata={'page_label': '1', 'file_name': 'data.pdf', 'file_path': '/content/data/data.pdf', 'file_type': 'application/pdf', 'file_size': 76111, 'creation_date': '2024-11-16', 'last_modified_date': '2024-11-16'}, excluded_embed_metadata_keys=['file_name', 'file_type', 'file_size', 'creation_date', 'last_modified_date', 'last_accessed_date'], excluded_llm_metadata_keys=['file_name', 'file_type', 'file_size', 'creation_date', 'last_modified_date', 'last_accessed_date'], relationships={}, text=\"AsiaAssetFinanceLeasingPolicy(Version2024/2025)\\nDocumentInformation\\n● PolicyVersion: 2024/2025● Preparedby: Headof Leasing● Approval: ApprovedbytheBoardof Directors, AsiaAsset Finance(AAF)on28thMarch2024● EffectiveDate: 28thMarch2024● NextReview: 23rdMarch2025\\n1. DefinitionofFinanceLease(FinanceLeasingActNo. 56of2000)\\nAfinanceleaseisdefinedasanagreement betweenalessorandalesseeforthepossessionandusebythelesseeof specifiedequipment, foraninitial periodof at least oneyear. Thelesseepaysthelessorforpossession, calculatedtocovertheamortizationof theequipment'scost. Theagreement mayalsoprovideforleaseextensionorthepurchaseof theequipment bythelesseeaftertheinitial period.\\n2. LeasingFacilitiesProvidedbyAAF\\n2.1VehicleCategories\\n1. BrandNewVehicles2. UnregisteredReconditionedVehicles3. Second-HandRegisteredVehicles: Maximumageof 35years\\n3. TypesofVehicles\\n1. FourWheelers2. ThreeWheelers3. TwoWheelers(Motorcycles)\\nNote: Leasingisnot availableforbuses, primemovers, heavyvehicles, constructionequipment,agricultural vehicles, andmachinery.\\n4. MaximumLeasePeriods\\n● FourWheelers:○ BrandNew: 7years\", mimetype='text/plain', start_char_idx=None, end_char_idx=None, text_template='{metadata_str}\\n\\n{content}', metadata_template='{key}: {value}', metadata_seperator='\\n')"
            ]
          },
          "metadata": {},
          "execution_count": 12
        }
      ]
    },
    {
      "cell_type": "code",
      "source": [
        "reader = SimpleDirectoryReader(input_dir=\"data/data.pdf\")\n",
        "documents = reader.load_data()\n",
        "documents"
      ],
      "metadata": {
        "colab": {
          "base_uri": "https://localhost:8080/"
        },
        "id": "ZUiqm1G9nexz",
        "outputId": "bbe087d8-9226-43dd-c5f5-3359d91cd482"
      },
      "execution_count": 14,
      "outputs": [
        {
          "output_type": "execute_result",
          "data": {
            "text/plain": [
              "[Document(id_='99feaa86-dec1-4574-93a6-b8791f3f016c', embedding=None, metadata={'page_label': '1', 'file_name': 'data.pdf', 'file_path': '/content/data/data.pdf', 'file_type': 'application/pdf', 'file_size': 76111, 'creation_date': '2024-11-16', 'last_modified_date': '2024-11-16'}, excluded_embed_metadata_keys=['file_name', 'file_type', 'file_size', 'creation_date', 'last_modified_date', 'last_accessed_date'], excluded_llm_metadata_keys=['file_name', 'file_type', 'file_size', 'creation_date', 'last_modified_date', 'last_accessed_date'], relationships={}, text=\"AsiaAssetFinanceLeasingPolicy(Version2024/2025)\\nDocumentInformation\\n● PolicyVersion: 2024/2025● Preparedby: Headof Leasing● Approval: ApprovedbytheBoardof Directors, AsiaAsset Finance(AAF)on28thMarch2024● EffectiveDate: 28thMarch2024● NextReview: 23rdMarch2025\\n1. DefinitionofFinanceLease(FinanceLeasingActNo. 56of2000)\\nAfinanceleaseisdefinedasanagreement betweenalessorandalesseeforthepossessionandusebythelesseeof specifiedequipment, foraninitial periodof at least oneyear. Thelesseepaysthelessorforpossession, calculatedtocovertheamortizationof theequipment'scost. Theagreement mayalsoprovideforleaseextensionorthepurchaseof theequipment bythelesseeaftertheinitial period.\\n2. LeasingFacilitiesProvidedbyAAF\\n2.1VehicleCategories\\n1. BrandNewVehicles2. UnregisteredReconditionedVehicles3. Second-HandRegisteredVehicles: Maximumageof 35years\\n3. TypesofVehicles\\n1. FourWheelers2. ThreeWheelers3. TwoWheelers(Motorcycles)\\nNote: Leasingisnot availableforbuses, primemovers, heavyvehicles, constructionequipment,agricultural vehicles, andmachinery.\\n4. MaximumLeasePeriods\\n● FourWheelers:○ BrandNew: 7years\", mimetype='text/plain', start_char_idx=None, end_char_idx=None, text_template='{metadata_str}\\n\\n{content}', metadata_template='{key}: {value}', metadata_seperator='\\n'),\n",
              " Document(id_='533518a1-34f0-4854-9ae4-95cfb0abe81a', embedding=None, metadata={'page_label': '2', 'file_name': 'data.pdf', 'file_path': '/content/data/data.pdf', 'file_type': 'application/pdf', 'file_size': 76111, 'creation_date': '2024-11-16', 'last_modified_date': '2024-11-16'}, excluded_embed_metadata_keys=['file_name', 'file_type', 'file_size', 'creation_date', 'last_modified_date', 'last_accessed_date'], excluded_llm_metadata_keys=['file_name', 'file_type', 'file_size', 'creation_date', 'last_modified_date', 'last_accessed_date'], relationships={}, text='○ RegisteredSecond-hand: 5years○ Reconditioned, Unregistered: 5years● ThreeWheelers:○ BrandNew: 5years○ Registered: Upto5years● Motorcycles:○ Petrol: BrandNew: 4years, Registered: Upto4years○ Electric: 3years(Onlybrandnew, manufacturer/suppliermust bepre-approvedbytheCredit Committee)\\n5. PurposeofLeasing\\n1. Borrowingmoneyforvehicleacquisition2. Refinancing/saleandleasebackarrangements3. Financingotherneedswiththevehicleusedascollateral\\n6. TargetMarket\\n1. Individuals(ages20–70)2. Partnerships3. Companies\\n7. ExclusionsandRestrictedIndustries\\nAAFexcludesleasingforspecificindustries, individuals, andassets. Thisincludes:\\n● Machinesandequipment, buses, primemovers, condemnedvehicles, illegal bodymodifications, andofficeequipment.● Restrictedindividualsincludereligiousleaders, lawenforcement members, ammunitiondealers, politicallyexposedpersons(PEPs), andthosewithbadcredit historyorseriousillnesses.\\n8. RequiredDocumentsforLeasing\\n8.1General Requirements\\n1. Customer/lesseeapplicationwithall personal detailsof lesseeandguarantors2. National IdentityCard(NIC), validpassport, orvaliddrivinglicense3. Proof of addressif different fromtheNIC', mimetype='text/plain', start_char_idx=None, end_char_idx=None, text_template='{metadata_str}\\n\\n{content}', metadata_template='{key}: {value}', metadata_seperator='\\n'),\n",
              " Document(id_='2f689508-120e-4f0f-bf2d-8067bababb10', embedding=None, metadata={'page_label': '3', 'file_name': 'data.pdf', 'file_path': '/content/data/data.pdf', 'file_type': 'application/pdf', 'file_size': 76111, 'creation_date': '2024-11-16', 'last_modified_date': '2024-11-16'}, excluded_embed_metadata_keys=['file_name', 'file_type', 'file_size', 'creation_date', 'last_modified_date', 'last_accessed_date'], excluded_llm_metadata_keys=['file_name', 'file_type', 'file_size', 'creation_date', 'last_modified_date', 'last_accessed_date'], relationships={}, text='4. KYCForm\\n8.2Additional RequirementsforCorporateFacilities\\n1. Form01, Form02, andForm202. Articlesof Association(verifycompany’sborrowingpower)3. Boardresolution, NICsof directors, KYCof directorsandcompany\\n8.3Additional RequirementsforPartnerships\\n1. Partnershipagreement documentation\\n9. InterestRatesandAmortization\\nLeasepaymentsareamortizedbasedonthereducingbalancemethodwithequal monthlyinstallments. Interest ratesaredeterminedbythemanagement, subject toapproval bytheDirectororCEO, consideringmarket conditionsandcost of funds. Theratesarereviewedquarterly.\\n10. GuarantorRequirements\\n● UnregisteredVehicles: Below50%exposure, noguarantorrequired. Above50%, aguarantorismandatory.● RegisteredVehicles: Familyguarantorforexposuresbelow50%, aregularguarantorabove50%.● Guarantorsmust havestableemployment orincomeandnoexistingfacilitywithAAF.\\n11. InvestigationandEvaluation\\nInvestigationisrequiredtovalidatethelessee’sincome, address, andassets. Vehicleevaluationcoversasset value, location, re-market potential, andcondition. Deviationsforlowexposurefacilitiesmaybeallowedbymanagement.\\n12. General Guidelines\\n1. All vehiclesrequireavaliddriving/ridinglicense.2. Documentsmust beauthenticated, verified, anduploadedtothesystem.3. Original vehicleinspectionreport andproof of addressarerequired.4. Anydeviationsfromthecredit policyrequireseniormanagement approval.', mimetype='text/plain', start_char_idx=None, end_char_idx=None, text_template='{metadata_str}\\n\\n{content}', metadata_template='{key}: {value}', metadata_seperator='\\n'),\n",
              " Document(id_='81772c37-1e0c-4e32-a812-dac66e7a5115', embedding=None, metadata={'page_label': '4', 'file_name': 'data.pdf', 'file_path': '/content/data/data.pdf', 'file_type': 'application/pdf', 'file_size': 76111, 'creation_date': '2024-11-16', 'last_modified_date': '2024-11-16'}, excluded_embed_metadata_keys=['file_name', 'file_type', 'file_size', 'creation_date', 'last_modified_date', 'last_accessed_date'], excluded_llm_metadata_keys=['file_name', 'file_type', 'file_size', 'creation_date', 'last_modified_date', 'last_accessed_date'], relationships={}, text='13. InsuranceGuidelines\\nAll vehiclesmust becomprehensivelyinsuredundertheAAFcode, withadditional coverageasneededbythecustomer. Insurancemust bearrangedonlythroughAAF-approvedcompanies,andanydirect insurancemust bepre-approved.\\n14. PoliciesforMotorcycles(Two-Wheelers)\\nOnlyauthorizedbrands(e.g., Hero, Honda, Yamaha)areeligible. Applicationsfromemployees,businessowners, orapplicantswithstableincomesourcesareprioritized. Specificexposurelimitsanddocumentationrequirementsapply.\\n15. PoliciesforThree-Wheelers\\nBothnewandregisteredthree-wheelersareeligibleforleasing, withamaximumleaseperiodof60months. Guarantorsarerequiredbasedonexposure, andNICcopiesof theapplicant andguarantor(s)aremandatory.\\n16. ExposureLimits\\nExposurelimitsfollowCBSLdirections, withspecificasset categorieslikethree-wheelers,motorcycles, andfour-wheelershavingdesignatedmaximumlimits. DeviationfromtheselimitsrequiresGMorhigherapproval.\\n17. Approval MatrixandLevels\\nThecredit approval matrixallowssystem-basedapproval forfacilitieswithinset parameters.Facilitiesoutsidetheseparametersrequirecredit department reviewandadditionalauthorization.\\n18. Operational Mechanism\\nTheoperational mechanismincludesstepssuchasclient onboarding, facilitycreation,document uploading, verification, andfinal approval. Onceapproved, facilitiesareassignedfacilitynumbers, andnecessarydocumentsaresecurelystoredat headquarters.', mimetype='text/plain', start_char_idx=None, end_char_idx=None, text_template='{metadata_str}\\n\\n{content}', metadata_template='{key}: {value}', metadata_seperator='\\n'),\n",
              " Document(id_='4de0537b-9dcc-4040-9b46-d386328db291', embedding=None, metadata={'page_label': '5', 'file_name': 'data.pdf', 'file_path': '/content/data/data.pdf', 'file_type': 'application/pdf', 'file_size': 76111, 'creation_date': '2024-11-16', 'last_modified_date': '2024-11-16'}, excluded_embed_metadata_keys=['file_name', 'file_type', 'file_size', 'creation_date', 'last_modified_date', 'last_accessed_date'], excluded_llm_metadata_keys=['file_name', 'file_type', 'file_size', 'creation_date', 'last_modified_date', 'last_accessed_date'], relationships={}, text='19. ProcessingCharges\\nChargesarebasedonfacilityamounts, withspecificratesdefinedfordifferent valueranges.\\n20. EarlyTerminationandVehicleValuation\\nEarlyterminationadherestoCBSLdirections. All vehiclesrequireindependent valuationsexcept forbrandnewones, withvaluationdatareviewedmonthly.\\n21. RecoveryProcess\\nIncasesof non-payment, AAFfollowsastructuredrecoveryprocessthat includesreminders,accelerationletters, terminationnotices, andrepossessionprocedures. Repossessedvehiclesmaybesoldat auctiontorecoverdues.\\n22. KeyRiskIndicators\\nAAFtrackscredit riskandportfolioperformancemonthly, withkeymetricsmonitoredfortrends,includingbudgetedcredit growth, asset quality, andthresholdbounces.\\nAnnexures\\n1. StandardOperatingProcedures(SOP)2. Internal LTVGrid', mimetype='text/plain', start_char_idx=None, end_char_idx=None, text_template='{metadata_str}\\n\\n{content}', metadata_template='{key}: {value}', metadata_seperator='\\n')]"
            ]
          },
          "metadata": {},
          "execution_count": 14
        }
      ]
    },
    {
      "cell_type": "code",
      "source": [
        "reader = SimpleDirectoryReader(input_files=[\"data/data.pdf\"])\n",
        "documents = reader.load_data()\n",
        "documents\n",
        ""
      ],
      "metadata": {
        "colab": {
          "base_uri": "https://localhost:8080/"
        },
        "id": "lNQmJzWkq6at",
        "outputId": "41a63ea1-b56b-4a84-fbf7-f196bfcb2a6f"
      },
      "execution_count": 15,
      "outputs": [
        {
          "output_type": "execute_result",
          "data": {
            "text/plain": [
              "[Document(id_='6e74cf2a-b91f-4b7f-9bac-c857af6bac14', embedding=None, metadata={'page_label': '1', 'file_name': 'data.pdf', 'file_path': 'data/data.pdf', 'file_type': 'application/pdf', 'file_size': 76111, 'creation_date': '2024-11-16', 'last_modified_date': '2024-11-16'}, excluded_embed_metadata_keys=['file_name', 'file_type', 'file_size', 'creation_date', 'last_modified_date', 'last_accessed_date'], excluded_llm_metadata_keys=['file_name', 'file_type', 'file_size', 'creation_date', 'last_modified_date', 'last_accessed_date'], relationships={}, text=\"AsiaAssetFinanceLeasingPolicy(Version2024/2025)\\nDocumentInformation\\n● PolicyVersion: 2024/2025● Preparedby: Headof Leasing● Approval: ApprovedbytheBoardof Directors, AsiaAsset Finance(AAF)on28thMarch2024● EffectiveDate: 28thMarch2024● NextReview: 23rdMarch2025\\n1. DefinitionofFinanceLease(FinanceLeasingActNo. 56of2000)\\nAfinanceleaseisdefinedasanagreement betweenalessorandalesseeforthepossessionandusebythelesseeof specifiedequipment, foraninitial periodof at least oneyear. Thelesseepaysthelessorforpossession, calculatedtocovertheamortizationof theequipment'scost. Theagreement mayalsoprovideforleaseextensionorthepurchaseof theequipment bythelesseeaftertheinitial period.\\n2. LeasingFacilitiesProvidedbyAAF\\n2.1VehicleCategories\\n1. BrandNewVehicles2. UnregisteredReconditionedVehicles3. Second-HandRegisteredVehicles: Maximumageof 35years\\n3. TypesofVehicles\\n1. FourWheelers2. ThreeWheelers3. TwoWheelers(Motorcycles)\\nNote: Leasingisnot availableforbuses, primemovers, heavyvehicles, constructionequipment,agricultural vehicles, andmachinery.\\n4. MaximumLeasePeriods\\n● FourWheelers:○ BrandNew: 7years\", mimetype='text/plain', start_char_idx=None, end_char_idx=None, text_template='{metadata_str}\\n\\n{content}', metadata_template='{key}: {value}', metadata_seperator='\\n'),\n",
              " Document(id_='02d91f47-c6ff-4a6b-85ad-7e1eb6f9460e', embedding=None, metadata={'page_label': '2', 'file_name': 'data.pdf', 'file_path': 'data/data.pdf', 'file_type': 'application/pdf', 'file_size': 76111, 'creation_date': '2024-11-16', 'last_modified_date': '2024-11-16'}, excluded_embed_metadata_keys=['file_name', 'file_type', 'file_size', 'creation_date', 'last_modified_date', 'last_accessed_date'], excluded_llm_metadata_keys=['file_name', 'file_type', 'file_size', 'creation_date', 'last_modified_date', 'last_accessed_date'], relationships={}, text='○ RegisteredSecond-hand: 5years○ Reconditioned, Unregistered: 5years● ThreeWheelers:○ BrandNew: 5years○ Registered: Upto5years● Motorcycles:○ Petrol: BrandNew: 4years, Registered: Upto4years○ Electric: 3years(Onlybrandnew, manufacturer/suppliermust bepre-approvedbytheCredit Committee)\\n5. PurposeofLeasing\\n1. Borrowingmoneyforvehicleacquisition2. Refinancing/saleandleasebackarrangements3. Financingotherneedswiththevehicleusedascollateral\\n6. TargetMarket\\n1. Individuals(ages20–70)2. Partnerships3. Companies\\n7. ExclusionsandRestrictedIndustries\\nAAFexcludesleasingforspecificindustries, individuals, andassets. Thisincludes:\\n● Machinesandequipment, buses, primemovers, condemnedvehicles, illegal bodymodifications, andofficeequipment.● Restrictedindividualsincludereligiousleaders, lawenforcement members, ammunitiondealers, politicallyexposedpersons(PEPs), andthosewithbadcredit historyorseriousillnesses.\\n8. RequiredDocumentsforLeasing\\n8.1General Requirements\\n1. Customer/lesseeapplicationwithall personal detailsof lesseeandguarantors2. National IdentityCard(NIC), validpassport, orvaliddrivinglicense3. Proof of addressif different fromtheNIC', mimetype='text/plain', start_char_idx=None, end_char_idx=None, text_template='{metadata_str}\\n\\n{content}', metadata_template='{key}: {value}', metadata_seperator='\\n'),\n",
              " Document(id_='d9239322-32d0-4681-9835-296e121bbcb5', embedding=None, metadata={'page_label': '3', 'file_name': 'data.pdf', 'file_path': 'data/data.pdf', 'file_type': 'application/pdf', 'file_size': 76111, 'creation_date': '2024-11-16', 'last_modified_date': '2024-11-16'}, excluded_embed_metadata_keys=['file_name', 'file_type', 'file_size', 'creation_date', 'last_modified_date', 'last_accessed_date'], excluded_llm_metadata_keys=['file_name', 'file_type', 'file_size', 'creation_date', 'last_modified_date', 'last_accessed_date'], relationships={}, text='4. KYCForm\\n8.2Additional RequirementsforCorporateFacilities\\n1. Form01, Form02, andForm202. Articlesof Association(verifycompany’sborrowingpower)3. Boardresolution, NICsof directors, KYCof directorsandcompany\\n8.3Additional RequirementsforPartnerships\\n1. Partnershipagreement documentation\\n9. InterestRatesandAmortization\\nLeasepaymentsareamortizedbasedonthereducingbalancemethodwithequal monthlyinstallments. Interest ratesaredeterminedbythemanagement, subject toapproval bytheDirectororCEO, consideringmarket conditionsandcost of funds. Theratesarereviewedquarterly.\\n10. GuarantorRequirements\\n● UnregisteredVehicles: Below50%exposure, noguarantorrequired. Above50%, aguarantorismandatory.● RegisteredVehicles: Familyguarantorforexposuresbelow50%, aregularguarantorabove50%.● Guarantorsmust havestableemployment orincomeandnoexistingfacilitywithAAF.\\n11. InvestigationandEvaluation\\nInvestigationisrequiredtovalidatethelessee’sincome, address, andassets. Vehicleevaluationcoversasset value, location, re-market potential, andcondition. Deviationsforlowexposurefacilitiesmaybeallowedbymanagement.\\n12. General Guidelines\\n1. All vehiclesrequireavaliddriving/ridinglicense.2. Documentsmust beauthenticated, verified, anduploadedtothesystem.3. Original vehicleinspectionreport andproof of addressarerequired.4. Anydeviationsfromthecredit policyrequireseniormanagement approval.', mimetype='text/plain', start_char_idx=None, end_char_idx=None, text_template='{metadata_str}\\n\\n{content}', metadata_template='{key}: {value}', metadata_seperator='\\n'),\n",
              " Document(id_='49674f2c-f314-4728-93de-cc91ae881d68', embedding=None, metadata={'page_label': '4', 'file_name': 'data.pdf', 'file_path': 'data/data.pdf', 'file_type': 'application/pdf', 'file_size': 76111, 'creation_date': '2024-11-16', 'last_modified_date': '2024-11-16'}, excluded_embed_metadata_keys=['file_name', 'file_type', 'file_size', 'creation_date', 'last_modified_date', 'last_accessed_date'], excluded_llm_metadata_keys=['file_name', 'file_type', 'file_size', 'creation_date', 'last_modified_date', 'last_accessed_date'], relationships={}, text='13. InsuranceGuidelines\\nAll vehiclesmust becomprehensivelyinsuredundertheAAFcode, withadditional coverageasneededbythecustomer. Insurancemust bearrangedonlythroughAAF-approvedcompanies,andanydirect insurancemust bepre-approved.\\n14. PoliciesforMotorcycles(Two-Wheelers)\\nOnlyauthorizedbrands(e.g., Hero, Honda, Yamaha)areeligible. Applicationsfromemployees,businessowners, orapplicantswithstableincomesourcesareprioritized. Specificexposurelimitsanddocumentationrequirementsapply.\\n15. PoliciesforThree-Wheelers\\nBothnewandregisteredthree-wheelersareeligibleforleasing, withamaximumleaseperiodof60months. Guarantorsarerequiredbasedonexposure, andNICcopiesof theapplicant andguarantor(s)aremandatory.\\n16. ExposureLimits\\nExposurelimitsfollowCBSLdirections, withspecificasset categorieslikethree-wheelers,motorcycles, andfour-wheelershavingdesignatedmaximumlimits. DeviationfromtheselimitsrequiresGMorhigherapproval.\\n17. Approval MatrixandLevels\\nThecredit approval matrixallowssystem-basedapproval forfacilitieswithinset parameters.Facilitiesoutsidetheseparametersrequirecredit department reviewandadditionalauthorization.\\n18. Operational Mechanism\\nTheoperational mechanismincludesstepssuchasclient onboarding, facilitycreation,document uploading, verification, andfinal approval. Onceapproved, facilitiesareassignedfacilitynumbers, andnecessarydocumentsaresecurelystoredat headquarters.', mimetype='text/plain', start_char_idx=None, end_char_idx=None, text_template='{metadata_str}\\n\\n{content}', metadata_template='{key}: {value}', metadata_seperator='\\n'),\n",
              " Document(id_='c13a6c15-e02e-47ce-bb74-723c311514c6', embedding=None, metadata={'page_label': '5', 'file_name': 'data.pdf', 'file_path': 'data/data.pdf', 'file_type': 'application/pdf', 'file_size': 76111, 'creation_date': '2024-11-16', 'last_modified_date': '2024-11-16'}, excluded_embed_metadata_keys=['file_name', 'file_type', 'file_size', 'creation_date', 'last_modified_date', 'last_accessed_date'], excluded_llm_metadata_keys=['file_name', 'file_type', 'file_size', 'creation_date', 'last_modified_date', 'last_accessed_date'], relationships={}, text='19. ProcessingCharges\\nChargesarebasedonfacilityamounts, withspecificratesdefinedfordifferent valueranges.\\n20. EarlyTerminationandVehicleValuation\\nEarlyterminationadherestoCBSLdirections. All vehiclesrequireindependent valuationsexcept forbrandnewones, withvaluationdatareviewedmonthly.\\n21. RecoveryProcess\\nIncasesof non-payment, AAFfollowsastructuredrecoveryprocessthat includesreminders,accelerationletters, terminationnotices, andrepossessionprocedures. Repossessedvehiclesmaybesoldat auctiontorecoverdues.\\n22. KeyRiskIndicators\\nAAFtrackscredit riskandportfolioperformancemonthly, withkeymetricsmonitoredfortrends,includingbudgetedcredit growth, asset quality, andthresholdbounces.\\nAnnexures\\n1. StandardOperatingProcedures(SOP)2. Internal LTVGrid', mimetype='text/plain', start_char_idx=None, end_char_idx=None, text_template='{metadata_str}\\n\\n{content}', metadata_template='{key}: {value}', metadata_seperator='\\n')]"
            ]
          },
          "metadata": {},
          "execution_count": 15
        }
      ]
    },
    {
      "cell_type": "code",
      "source": [
        "import os.path\n",
        "from llama_index.core import (\n",
        "    VectorStoreIndex,\n",
        "    SimpleDirectoryReader,\n",
        "    StorageContext,\n",
        "    load_index_from_storage,\n",
        ")\n",
        "\n",
        "#check if storage is already exist\n",
        "PERSIST_DIR =\"./storage\"\n",
        "\n",
        "if not os.path.exists(PERSIST_DIR):\n",
        "      documents = SimpleDirectoryReader(\"data\").load_data()\n",
        "      index = VectorStoreIndex.from_documents(documents)\n",
        "      index.storage_context.persist(persist_dir=PERSIST_DIR )\n",
        "else :\n",
        "  storage = StorageContext.from_defaults(persist_dir=PERSIST_DIR )\n",
        "  index = index.load_index_from_storage(storage)\n",
        "\n",
        "query_engine = index.as_query_engine()\n",
        "response =query_engine.query(\"What is this document\")\n",
        "print(response)\n",
        "\n"
      ],
      "metadata": {
        "colab": {
          "base_uri": "https://localhost:8080/"
        },
        "id": "clf0Iql60SB_",
        "outputId": "085848f9-607e-4664-fc45-05e0087d9d82"
      },
      "execution_count": 17,
      "outputs": [
        {
          "output_type": "stream",
          "name": "stdout",
          "text": [
            "This document appears to be a set of guidelines or requirements related to leasing agreements for vehicles provided by a financial institution or leasing company.\n"
          ]
        }
      ]
    },
    {
      "cell_type": "code",
      "source": [
        "print(documents[0].text)"
      ],
      "metadata": {
        "colab": {
          "base_uri": "https://localhost:8080/"
        },
        "id": "gvvNKKh034jy",
        "outputId": "08d3f309-b57b-4419-a34c-1f609ea9588d"
      },
      "execution_count": 18,
      "outputs": [
        {
          "output_type": "stream",
          "name": "stdout",
          "text": [
            "AsiaAssetFinanceLeasingPolicy(Version2024/2025)\n",
            "DocumentInformation\n",
            "● PolicyVersion: 2024/2025● Preparedby: Headof Leasing● Approval: ApprovedbytheBoardof Directors, AsiaAsset Finance(AAF)on28thMarch2024● EffectiveDate: 28thMarch2024● NextReview: 23rdMarch2025\n",
            "1. DefinitionofFinanceLease(FinanceLeasingActNo. 56of2000)\n",
            "Afinanceleaseisdefinedasanagreement betweenalessorandalesseeforthepossessionandusebythelesseeof specifiedequipment, foraninitial periodof at least oneyear. Thelesseepaysthelessorforpossession, calculatedtocovertheamortizationof theequipment'scost. Theagreement mayalsoprovideforleaseextensionorthepurchaseof theequipment bythelesseeaftertheinitial period.\n",
            "2. LeasingFacilitiesProvidedbyAAF\n",
            "2.1VehicleCategories\n",
            "1. BrandNewVehicles2. UnregisteredReconditionedVehicles3. Second-HandRegisteredVehicles: Maximumageof 35years\n",
            "3. TypesofVehicles\n",
            "1. FourWheelers2. ThreeWheelers3. TwoWheelers(Motorcycles)\n",
            "Note: Leasingisnot availableforbuses, primemovers, heavyvehicles, constructionequipment,agricultural vehicles, andmachinery.\n",
            "4. MaximumLeasePeriods\n",
            "● FourWheelers:○ BrandNew: 7years\n"
          ]
        }
      ]
    },
    {
      "cell_type": "code",
      "source": [],
      "metadata": {
        "id": "I66vWR2PBMEJ"
      },
      "execution_count": null,
      "outputs": []
    }
  ]
}